{
  "nbformat": 4,
  "nbformat_minor": 0,
  "metadata": {
    "colab": {
      "provenance": [],
      "authorship_tag": "ABX9TyPPZmdK1A2fzcOqL7qpAgIk",
      "include_colab_link": true
    },
    "kernelspec": {
      "name": "python3",
      "display_name": "Python 3"
    },
    "language_info": {
      "name": "python"
    }
  },
  "cells": [
    {
      "cell_type": "markdown",
      "metadata": {
        "id": "view-in-github",
        "colab_type": "text"
      },
      "source": [
        "<a href=\"https://colab.research.google.com/github/KissTK322/Newton-Method-2D-in-Modulo-Research/blob/main/Newton_Method_2D_Final.ipynb\" target=\"_parent\"><img src=\"https://colab.research.google.com/assets/colab-badge.svg\" alt=\"Open In Colab\"/></a>"
      ]
    },
    {
      "cell_type": "markdown",
      "source": [
        "#2D newton method in Modulo Final"
      ],
      "metadata": {
        "id": "am0lHNxQ1S4p"
      }
    },
    {
      "cell_type": "code",
      "execution_count": null,
      "metadata": {
        "colab": {
          "base_uri": "https://localhost:8080/"
        },
        "id": "msxLSlO41EMM",
        "outputId": "d78f6868-59ba-4618-fd9e-e402e449bdbf"
      },
      "outputs": [
        {
          "output_type": "stream",
          "name": "stdout",
          "text": [
            "Enter coefficients a, b, c, d separated by spaces: 2 3 5 4\n",
            "Enter mod value as p:53\n",
            "Enter number of p raise to the power of n as n : 16\n",
            "15 8 1 1\n",
            "1605 803 1 1\n",
            "18035385 9017693 1 1\n",
            "2276925820758345 1138462910379173 1 1\n",
            "36290738352652445711427851489865 18145369176326222855713925744933 1 1\n"
          ]
        }
      ],
      "source": [
        "import math\n",
        "\n",
        "while(True):\n",
        "  a, b, c, d = map(int, input(\"Enter coefficients a, b, c, d separated by spaces: \").split())\n",
        "  fnd = 0\n",
        "  if(a*d - b*c == 0) :\n",
        "    print(\"ERROR\")\n",
        "    fnd = 1\n",
        "  if(abs(d) - abs(b) != 1) :\n",
        "    print(\"ERROR\")\n",
        "    fnd = 1\n",
        "  if(fnd == 0) :\n",
        "    p = int(input(\"Enter mod value as p:\"))\n",
        "    n = int(input(\"Enter number of p raise to the power of n as n : \"))\n",
        "\n",
        "    # เลือกให้ถูก\n",
        "\n",
        "    X = ((((a*d - b*c) % p) ** (p-2)) * ((d % p) + (-b % p))) % p\n",
        "    Y = ((((a*d - b*c) % p) ** (p-2)) * ((-c % p) + (a % p))) % p\n",
        "\n",
        "\n",
        "    for i in range(int(math.log2(n))+1):\n",
        "        print(X, Y, (a * X + b * Y) % (p ** (2 ** i)), (c * X + d * Y) % (p ** (2 ** i)))\n",
        "\n",
        "        X1 = X * (2 + X * (c * b - a * d))\n",
        "        Y1 = Y - X * (d * a * Y - b * c * Y + c - a)\n",
        "\n",
        "        X = X1\n",
        "        Y = Y1\n"
      ]
    }
  ]
}